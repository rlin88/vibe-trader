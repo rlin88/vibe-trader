{
 "cells": [
  {
   "cell_type": "code",
   "execution_count": 5,
   "id": "37e5c352-053b-45a6-9682-c9262e3ca851",
   "metadata": {},
   "outputs": [],
   "source": [
    "from typing import *\n",
    "import yfinance as yf\n",
    "import pandas as pd\n",
    "import datetime\n",
    "import time"
   ]
  },
  {
   "cell_type": "code",
   "execution_count": 2,
   "id": "d201528b-74a5-4132-a6c1-31f7c269a337",
   "metadata": {},
   "outputs": [
    {
     "name": "stdout",
     "output_type": "stream",
     "text": [
      "Downloading AAPL...\n",
      "YF.download() has changed argument auto_adjust default to True\n",
      "Downloading MSFT...\n",
      "Downloading GOOGL...\n",
      "Downloading AMZN...\n",
      "Price                           Close        High         Low        Open  \\\n",
      "Ticker                           AAPL        AAPL        AAPL        AAPL   \n",
      "Datetime                                                                    \n",
      "2024-04-08 13:30:00+00:00  168.820007  169.190002  168.240005  169.059998   \n",
      "2024-04-08 14:30:00+00:00  168.815002  169.130005  168.649994  168.824997   \n",
      "2024-04-08 15:30:00+00:00  168.412399  168.815002  168.264999  168.815002   \n",
      "2024-04-08 16:30:00+00:00  168.645004  168.835007  168.404999  168.414993   \n",
      "2024-04-08 17:30:00+00:00  168.790100  168.899994  168.470001  168.645004   \n",
      "...                               ...         ...         ...         ...   \n",
      "2025-04-04 13:30:00+00:00  195.279999  199.880005  192.800003  193.925003   \n",
      "2025-04-04 14:30:00+00:00  194.490005  197.039993  191.059998  195.294998   \n",
      "2025-04-04 15:30:00+00:00  192.809998  196.000000  192.259995  194.464996   \n",
      "2025-04-04 16:30:00+00:00  190.990005  193.976196  190.899994  192.779999   \n",
      "2025-04-04 17:30:00+00:00  188.880005  192.570007  188.830994  190.979996   \n",
      "\n",
      "Price                        Volume  \n",
      "Ticker                         AAPL  \n",
      "Datetime                             \n",
      "2024-04-08 13:30:00+00:00   8279940  \n",
      "2024-04-08 14:30:00+00:00   4718366  \n",
      "2024-04-08 15:30:00+00:00   4134102  \n",
      "2024-04-08 16:30:00+00:00   2982857  \n",
      "2024-04-08 17:30:00+00:00   2336490  \n",
      "...                             ...  \n",
      "2025-04-04 13:30:00+00:00  32115307  \n",
      "2025-04-04 14:30:00+00:00  19673653  \n",
      "2025-04-04 15:30:00+00:00   9394432  \n",
      "2025-04-04 16:30:00+00:00   8256831  \n",
      "2025-04-04 17:30:00+00:00  12240537  \n",
      "\n",
      "[1736 rows x 5 columns]\n"
     ]
    }
   ],
   "source": [
    "# List of tickers\n",
    "tickers = [\"AAPL\", \"MSFT\", \"GOOGL\", \"AMZN\"]\n",
    "\n",
    "# Define the time range and interval\n",
    "end_date = datetime.date.today().strftime(\"%Y-%m-%d\")\n",
    "start_date = (datetime.date.today() - datetime.timedelta(days=365)).strftime(\"%Y-%m-%d\")\n",
    "interval = \"1h\"  # 1 hour interval\n",
    "\n",
    "# Dictionary to store data\n",
    "data = {}\n",
    "\n",
    "for ticker in tickers:\n",
    "    print(f\"Downloading {ticker}...\")\n",
    "    stock = yf.download(ticker, start=start_date, end=end_date, interval=interval, progress=False)\n",
    "    data[ticker] = stock\n",
    "\n",
    "# Example: show AAPL data\n",
    "print(data[\"AAPL\"].head(-2))\n"
   ]
  },
  {
   "cell_type": "code",
   "execution_count": 3,
   "id": "dcffe9a4-bb34-4c54-93a7-fbd60457872a",
   "metadata": {},
   "outputs": [],
   "source": [
    "def load_predefined_tickers_list() -> List[str]:\n",
    "    # Load NASDAQ symbols from a raw GitHub URL\n",
    "    url = 'https://raw.githubusercontent.com/rreichel3/US-Stock-Symbols/main/nasdaq/nasdaq_tickers.txt'\n",
    "    nasdaq_symbols = pd.read_csv(url, header=None).squeeze().tolist()\n",
    "    \n",
    "    print(nasdaq_symbols[:10])  # Display first 10 symbols as a sample\n",
    "    return nasdaq_symbols"
   ]
  },
  {
   "cell_type": "code",
   "execution_count": 4,
   "id": "cc8ab5c5-fdb3-43e5-9a5b-49a68befe819",
   "metadata": {},
   "outputs": [
    {
     "name": "stdout",
     "output_type": "stream",
     "text": [
      "['AACBU', 'AACG', 'AAL', 'AAME', 'AAOI', 'AAON', 'AAPG', 'AAPL', 'AARD', 'ABAT']\n",
      "3865\n"
     ]
    }
   ],
   "source": [
    "nasdaq_symbols = load_predefined_tickers_list()\n",
    "print(len(nasdaq_symbols))"
   ]
  },
  {
   "cell_type": "code",
   "execution_count": 10,
   "id": "d9d74636-9c7c-4174-a6fc-91d289c9ff41",
   "metadata": {},
   "outputs": [],
   "source": [
    "def batch_load_from_yfinance(tickers: List[str], start_date: str, end_date: str, interval: str=\"1h\") -> None:    \n",
    "    # Dictionary to store data\n",
    "    data: Dict[str, pd.DataFrame] = {}\n",
    "    cnt: int = 0\n",
    "\n",
    "    for ticker in tickers:            \n",
    "        for attempt in range(6):\n",
    "            try:\n",
    "                stock = yf.download(ticker, start=start_date, end=end_date, interval=interval, progress=False)\n",
    "                data[ticker] = stock\n",
    "                break\n",
    "            except yf.exceptions.YFRateLimitError as e:\n",
    "                wait_time = 2**(attempt + 1)\n",
    "                print(f\"Attempt {attempt + 1} rate limited for ticker: {ticker}, pause for {wait_time}\")\n",
    "                time.sleep(wait_time)  # exponential backoff\n",
    "                \n",
    "        data[ticker].columns = [c[0] for c in data[ticker].columns]\n",
    "        data[ticker][\"ticker\"] = ticker\n",
    "        cnt += 1\n",
    "\n",
    "        if cnt % 100 == 0:  # Saving output every 100 tickers.\n",
    "            print(f\"Downloaded {cnt} stocks data.\")\n",
    "            temp_out: pd.DataFrame = pd.concat(data.values(), axis=0)\n",
    "            temp_out.to_parquet(f\"main_base_{cnt}.parquet\")\n",
    "            \n",
    "    temp_out: pd.DataFrame = pd.concat(data.values(), axis=0)\n",
    "    temp_out.to_parquet(f\"main_base_{cnt}.parquet\")\n"
   ]
  },
  {
   "cell_type": "code",
   "execution_count": null,
   "id": "162ade5a-baf9-4a16-a051-ab1535a2c48c",
   "metadata": {},
   "outputs": [
    {
     "name": "stderr",
     "output_type": "stream",
     "text": [
      "\n",
      "1 Failed download:\n",
      "['ABLLW']: YFInvalidPeriodError(\"ABLLW: Period 'max' is invalid, must be of the format 1d, 5d, etc.\")\n",
      "\n",
      "1 Failed download:\n",
      "['ABLVW']: YFInvalidPeriodError(\"ABLVW: Period 'max' is invalid, must be of the format 1d, 5d, etc.\")\n",
      "\n",
      "1 Failed download:\n",
      "['ABPWW']: YFInvalidPeriodError(\"ABPWW: Period 'max' is invalid, must be of the format 1d, 5d, etc.\")\n"
     ]
    }
   ],
   "source": [
    "batch_load_from_yfinance(nasdaq_symbols, start_date, end_date)"
   ]
  },
  {
   "cell_type": "code",
   "execution_count": null,
   "id": "42ed6907-8630-4816-93f6-a18c8ba5a112",
   "metadata": {},
   "outputs": [],
   "source": []
  }
 ],
 "metadata": {
  "kernelspec": {
   "display_name": "vibe-trader",
   "language": "python",
   "name": "vibe-trader"
  },
  "language_info": {
   "codemirror_mode": {
    "name": "ipython",
    "version": 3
   },
   "file_extension": ".py",
   "mimetype": "text/x-python",
   "name": "python",
   "nbconvert_exporter": "python",
   "pygments_lexer": "ipython3",
   "version": "3.10.16"
  }
 },
 "nbformat": 4,
 "nbformat_minor": 5
}
