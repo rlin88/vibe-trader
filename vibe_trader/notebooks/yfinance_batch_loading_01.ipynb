{
 "cells": [
  {
   "cell_type": "code",
   "execution_count": 14,
   "id": "37e5c352-053b-45a6-9682-c9262e3ca851",
   "metadata": {},
   "outputs": [],
   "source": [
    "from typing import *\n",
    "import yfinance as yf\n",
    "import pandas as pd\n",
    "import datetime\n"
   ]
  },
  {
   "cell_type": "code",
   "execution_count": 9,
   "id": "d201528b-74a5-4132-a6c1-31f7c269a337",
   "metadata": {},
   "outputs": [
    {
     "name": "stdout",
     "output_type": "stream",
     "text": [
      "Downloading AAPL...\n",
      "Downloading MSFT...\n",
      "Downloading GOOGL...\n",
      "Downloading AMZN...\n",
      "Price                           Close        High         Low        Open  \\\n",
      "Ticker                           AAPL        AAPL        AAPL        AAPL   \n",
      "Datetime                                                                    \n",
      "2024-03-28 13:30:00+00:00  171.195007  171.934998  170.720001  171.699997   \n",
      "2024-03-28 14:30:00+00:00  170.835007  171.210007  170.509995  171.199997   \n",
      "2024-03-28 15:30:00+00:00  171.169205  171.199997  170.729996  170.839996   \n",
      "2024-03-28 16:30:00+00:00  170.964996  171.369995  170.949997  171.169998   \n",
      "2024-03-28 17:30:00+00:00  171.780106  171.810303  170.889999  170.960007   \n",
      "...                               ...         ...         ...         ...   \n",
      "2025-03-27 13:30:00+00:00  221.649994  222.100006  220.560104  221.330002   \n",
      "2025-03-27 14:30:00+00:00  222.800095  223.240005  221.399994  221.649994   \n",
      "2025-03-27 15:30:00+00:00  223.195007  223.759995  222.565002  222.800003   \n",
      "2025-03-27 16:30:00+00:00  223.104996  223.979996  222.720001  223.179993   \n",
      "2025-03-27 17:30:00+00:00  224.369995  224.559998  223.050003  223.080002   \n",
      "\n",
      "Price                        Volume  \n",
      "Ticker                         AAPL  \n",
      "Datetime                             \n",
      "2024-03-28 13:30:00+00:00  14682071  \n",
      "2024-03-28 14:30:00+00:00   7903177  \n",
      "2024-03-28 15:30:00+00:00   5070981  \n",
      "2024-03-28 16:30:00+00:00   4292029  \n",
      "2024-03-28 17:30:00+00:00   4247361  \n",
      "...                             ...  \n",
      "2025-03-27 13:30:00+00:00   5508724  \n",
      "2025-03-27 14:30:00+00:00   3784484  \n",
      "2025-03-27 15:30:00+00:00   2866958  \n",
      "2025-03-27 16:30:00+00:00   3509193  \n",
      "2025-03-27 17:30:00+00:00   3521517  \n",
      "\n",
      "[1736 rows x 5 columns]\n"
     ]
    }
   ],
   "source": [
    "# List of tickers\n",
    "tickers = [\"AAPL\", \"MSFT\", \"GOOGL\", \"AMZN\"]\n",
    "\n",
    "# Define the time range and interval\n",
    "end_date = datetime.date.today().strftime(\"%Y-%m-%d\")\n",
    "start_date = (datetime.date.today() - datetime.timedelta(days=365)).strftime(\"%Y-%m-%d\")\n",
    "interval = \"1h\"  # 1 hour interval\n",
    "\n",
    "# Dictionary to store data\n",
    "data = {}\n",
    "\n",
    "for ticker in tickers:\n",
    "    print(f\"Downloading {ticker}...\")\n",
    "    stock = yf.download(ticker, start=start_date, end=end_date, interval=interval, progress=False)\n",
    "    data[ticker] = stock\n",
    "\n",
    "# Example: show AAPL data\n",
    "print(data[\"AAPL\"].head(-2))\n"
   ]
  },
  {
   "cell_type": "code",
   "execution_count": 15,
   "id": "dcffe9a4-bb34-4c54-93a7-fbd60457872a",
   "metadata": {},
   "outputs": [],
   "source": [
    "def load_predefined_tickers_list() -> List[str]:\n",
    "    # Load NASDAQ symbols from a raw GitHub URL\n",
    "    url = 'https://raw.githubusercontent.com/rreichel3/US-Stock-Symbols/main/nasdaq/nasdaq_tickers.txt'\n",
    "    nasdaq_symbols = pd.read_csv(url, header=None).squeeze().tolist()\n",
    "    \n",
    "    print(nasdaq_symbols[:10])  # Display first 10 symbols as a sample\n",
    "    return nasdaq_symbols"
   ]
  },
  {
   "cell_type": "code",
   "execution_count": 16,
   "id": "cc8ab5c5-fdb3-43e5-9a5b-49a68befe819",
   "metadata": {},
   "outputs": [
    {
     "name": "stdout",
     "output_type": "stream",
     "text": [
      "['AACBU', 'AACG', 'AAL', 'AAME', 'AAOI', 'AAON', 'AAPG', 'AAPL', 'AARD', 'ABAT']\n",
      "3843\n"
     ]
    }
   ],
   "source": [
    "nasdaq_symbols = load_predefined_tickers_list()\n",
    "print(len(nasdaq_symbols))"
   ]
  },
  {
   "cell_type": "code",
   "execution_count": 29,
   "id": "d9d74636-9c7c-4174-a6fc-91d289c9ff41",
   "metadata": {},
   "outputs": [],
   "source": [
    "def batch_load_from_yfinance(tickers: List[str], start_date: str, end_date: str, interval: str=\"1h\") -> pd.DataFrame:    \n",
    "    # Dictionary to store data\n",
    "    data: Dict[str, pd.DataFrame] = {}\n",
    "    cnt: int = 0\n",
    "\n",
    "    for ticker in tickers:\n",
    "        if cnt % 100 == 0:\n",
    "            print(f\"Downloaded {cnt} stocks data.\")\n",
    "            print(f\"Downloading {ticker}...\")\n",
    "        stock = yf.download(ticker, start=start_date, end=end_date, interval=interval, progress=False)\n",
    "        data[ticker] = stock\n",
    "        cnt += 1\n",
    "    \n",
    "    for ticker, df in data.items():\n",
    "        data[ticker].columns = [c[0] for c in data[ticker].columns]\n",
    "        data[ticker][\"ticker\"] = ticker\n",
    "    return pd.concat(data.values(), axis=0)\n"
   ]
  },
  {
   "cell_type": "code",
   "execution_count": null,
   "id": "162ade5a-baf9-4a16-a051-ab1535a2c48c",
   "metadata": {},
   "outputs": [
    {
     "name": "stdout",
     "output_type": "stream",
     "text": [
      "Downloaded 0 stocks data.\n",
      "Downloading AACBU...\n"
     ]
    },
    {
     "name": "stderr",
     "output_type": "stream",
     "text": [
      "\n",
      "1 Failed download:\n",
      "['ABLLW']: YFInvalidPeriodError(\"ABLLW: Period 'max' is invalid, must be of the format 1d, 5d, etc.\")\n",
      "\n",
      "1 Failed download:\n",
      "['ABPWW']: YFInvalidPeriodError(\"ABPWW: Period 'max' is invalid, must be of the format 1d, 5d, etc.\")\n",
      "\n",
      "1 Failed download:\n",
      "['ABVEW']: YFInvalidPeriodError(\"ABVEW: Period 'max' is invalid, must be of the format 1d, 5d, etc.\")\n",
      "\n",
      "1 Failed download:\n",
      "['ACONW']: YFInvalidPeriodError(\"ACONW: Period 'max' is invalid, must be of the format 1d, 5d, etc.\")\n",
      "\n",
      "1 Failed download:\n",
      "['ADNWW']: YFInvalidPeriodError(\"ADNWW: Period 'max' is invalid, must be of the format 1d, 5d, etc.\")\n",
      "\n",
      "1 Failed download:\n",
      "['ADSEW']: YFInvalidPeriodError(\"ADSEW: Period 'max' is invalid, must be of the format 1d, 5d, etc.\")\n",
      "\n",
      "1 Failed download:\n",
      "['ADVWW']: YFInvalidPeriodError(\"ADVWW: Period 'max' is invalid, must be of the format 1d, 5d, etc.\")\n",
      "\n",
      "1 Failed download:\n",
      "['AENTW']: YFInvalidPeriodError(\"AENTW: Period 'max' is invalid, must be of the format 1d, 5d, etc.\")\n",
      "\n",
      "1 Failed download:\n",
      "['AERTW']: YFInvalidPeriodError(\"AERTW: Period 'max' is invalid, must be of the format 1d, 5d, etc.\")\n",
      "\n",
      "1 Failed download:\n",
      "['AEVAW']: YFInvalidPeriodError(\"AEVAW: Period 'max' is invalid, must be of the format 1d, 5d, etc.\")\n",
      "\n",
      "1 Failed download:\n",
      "['AFRIW']: YFInvalidPeriodError(\"AFRIW: Period 'max' is invalid, must be of the format 1d, 5d, etc.\")\n"
     ]
    },
    {
     "name": "stdout",
     "output_type": "stream",
     "text": [
      "Downloaded 100 stocks data.\n",
      "Downloading AGAE...\n"
     ]
    },
    {
     "name": "stderr",
     "output_type": "stream",
     "text": [
      "\n",
      "1 Failed download:\n",
      "['AIMAW']: YFInvalidPeriodError(\"AIMAW: Period 'max' is invalid, must be of the format 1d, 5d, etc.\")\n",
      "\n",
      "1 Failed download:\n",
      "['AIMDW']: YFInvalidPeriodError(\"AIMDW: Period 'max' is invalid, must be of the format 1d, 5d, etc.\")\n",
      "\n",
      "1 Failed download:\n",
      "['AIRJW']: YFInvalidPeriodError(\"AIRJW: Period 'max' is invalid, must be of the format 1d, 5d, etc.\")\n",
      "\n",
      "1 Failed download:\n",
      "['AISPW']: YFInvalidPeriodError(\"AISPW: Period 'max' is invalid, must be of the format 1d, 5d, etc.\")\n",
      "\n",
      "1 Failed download:\n",
      "['AITRR']: YFInvalidPeriodError(\"AITRR: Period 'max' is invalid, must be of the format 1d, 5d, etc.\")\n",
      "\n",
      "1 Failed download:\n",
      "['ALCYW']: YFInvalidPeriodError(\"ALCYW: Period 'max' is invalid, must be of the format 1d, 5d, etc.\")\n",
      "\n",
      "1 Failed download:\n",
      "['ALDFW']: YFInvalidPeriodError(\"ALDFW: Period 'max' is invalid, must be of the format 1d, 5d, etc.\")\n",
      "\n",
      "1 Failed download:\n",
      "['ALFUW']: YFInvalidPeriodError(\"ALFUW: Period 'max' is invalid, must be of the format 1d, 5d, etc.\")\n",
      "\n",
      "1 Failed download:\n",
      "['ALVOW']: YFInvalidPeriodError(\"ALVOW: Period 'max' is invalid, must be of the format 1d, 5d, etc.\")\n",
      "\n",
      "1 Failed download:\n",
      "['AMODW']: YFInvalidPeriodError(\"AMODW: Period 'max' is invalid, must be of the format 1d, 5d, etc.\")\n"
     ]
    },
    {
     "name": "stdout",
     "output_type": "stream",
     "text": [
      "Downloaded 200 stocks data.\n",
      "Downloading AMPL...\n"
     ]
    },
    {
     "name": "stderr",
     "output_type": "stream",
     "text": [
      "\n",
      "1 Failed download:\n",
      "['ANGHW']: YFInvalidPeriodError(\"ANGHW: Period 'max' is invalid, must be of the format 1d, 5d, etc.\")\n",
      "\n",
      "1 Failed download:\n",
      "['ANNAW']: YFInvalidPeriodError(\"ANNAW: Period 'max' is invalid, must be of the format 1d, 5d, etc.\")\n",
      "\n",
      "1 Failed download:\n",
      "['ANSCW']: YFInvalidPeriodError(\"ANSCW: Period 'max' is invalid, must be of the format 1d, 5d, etc.\")\n",
      "\n",
      "1 Failed download:\n",
      "['APCXW']: YFInvalidPeriodError(\"APCXW: Period 'max' is invalid, must be of the format 1d, 5d, etc.\")\n",
      "\n",
      "1 Failed download:\n",
      "['ARBEW']: YFInvalidPeriodError(\"ARBEW: Period 'max' is invalid, must be of the format 1d, 5d, etc.\")\n",
      "\n",
      "1 Failed download:\n",
      "['AREBW']: YFInvalidPeriodError(\"AREBW: Period 'max' is invalid, must be of the format 1d, 5d, etc.\")\n",
      "\n",
      "1 Failed download:\n",
      "['ARKOW']: YFInvalidPeriodError(\"ARKOW: Period 'max' is invalid, must be of the format 1d, 5d, etc.\")\n",
      "\n",
      "1 Failed download:\n",
      "['ASBPW']: YFInvalidPeriodError(\"ASBPW: Period 'max' is invalid, must be of the format 1d, 5d, etc.\")\n"
     ]
    },
    {
     "name": "stdout",
     "output_type": "stream",
     "text": [
      "Downloaded 300 stocks data.\n",
      "Downloading ASPCU...\n"
     ]
    },
    {
     "name": "stderr",
     "output_type": "stream",
     "text": [
      "\n",
      "1 Failed download:\n",
      "['ASTLW']: YFInvalidPeriodError(\"ASTLW: Period 'max' is invalid, must be of the format 1d, 5d, etc.\")\n",
      "\n",
      "1 Failed download:\n",
      "['ATMCR']: YFInvalidPeriodError(\"ATMCR: Period 'max' is invalid, must be of the format 1d, 5d, etc.\")\n",
      "\n",
      "1 Failed download:\n",
      "['ATMVR']: YFInvalidPeriodError(\"ATMVR: Period 'max' is invalid, must be of the format 1d, 5d, etc.\")\n",
      "\n",
      "1 Failed download:\n",
      "['ATNFW']: YFInvalidPeriodError(\"ATNFW: Period 'max' is invalid, must be of the format 1d, 5d, etc.\")\n",
      "\n",
      "1 Failed download:\n",
      "['AUROW']: YFInvalidPeriodError(\"AUROW: Period 'max' is invalid, must be of the format 1d, 5d, etc.\")\n",
      "\n",
      "1 Failed download:\n",
      "['AVPTW']: YFInvalidPeriodError(\"AVPTW: Period 'max' is invalid, must be of the format 1d, 5d, etc.\")\n",
      "\n",
      "1 Failed download:\n",
      "['BACQR']: YFInvalidPeriodError(\"BACQR: Period 'max' is invalid, must be of the format 1d, 5d, etc.\")\n",
      "\n",
      "1 Failed download:\n",
      "['BAERW']: YFInvalidPeriodError(\"BAERW: Period 'max' is invalid, must be of the format 1d, 5d, etc.\")\n"
     ]
    },
    {
     "name": "stdout",
     "output_type": "stream",
     "text": [
      "Downloaded 400 stocks data.\n",
      "Downloading BATRA...\n"
     ]
    },
    {
     "name": "stderr",
     "output_type": "stream",
     "text": [
      "\n",
      "1 Failed download:\n",
      "['BCTXW']: YFInvalidPeriodError(\"BCTXW: Period 'max' is invalid, must be of the format 1d, 5d, etc.\")\n",
      "\n",
      "1 Failed download:\n",
      "['BDMDW']: YFInvalidPeriodError(\"BDMDW: Period 'max' is invalid, must be of the format 1d, 5d, etc.\")\n",
      "\n",
      "1 Failed download:\n",
      "['BEAGR']: YFInvalidPeriodError(\"BEAGR: Period 'max' is invalid, must be of the format 1d, 5d, etc.\")\n",
      "\n",
      "1 Failed download:\n",
      "['BEATW']: YFInvalidPeriodError(\"BEATW: Period 'max' is invalid, must be of the format 1d, 5d, etc.\")\n",
      "\n",
      "1 Failed download:\n",
      "['BENFW']: YFInvalidPeriodError(\"BENFW: Period 'max' is invalid, must be of the format 1d, 5d, etc.\")\n",
      "\n",
      "1 Failed download:\n",
      "['BETRW']: YFInvalidPeriodError(\"BETRW: Period 'max' is invalid, must be of the format 1d, 5d, etc.\")\n",
      "\n",
      "1 Failed download:\n",
      "['BFRGW']: YFInvalidPeriodError(\"BFRGW: Period 'max' is invalid, must be of the format 1d, 5d, etc.\")\n",
      "\n",
      "1 Failed download:\n",
      "['BIAFW']: YFInvalidPeriodError(\"BIAFW: Period 'max' is invalid, must be of the format 1d, 5d, etc.\")\n",
      "\n",
      "1 Failed download:\n",
      "['BLDEW']: YFInvalidPeriodError(\"BLDEW: Period 'max' is invalid, must be of the format 1d, 5d, etc.\")\n"
     ]
    },
    {
     "name": "stdout",
     "output_type": "stream",
     "text": [
      "Downloaded 500 stocks data.\n",
      "Downloading BMRC...\n"
     ]
    },
    {
     "name": "stderr",
     "output_type": "stream",
     "text": [
      "\n",
      "1 Failed download:\n",
      "['BNAIW']: YFInvalidPeriodError(\"BNAIW: Period 'max' is invalid, must be of the format 1d, 5d, etc.\")\n",
      "\n",
      "1 Failed download:\n",
      "['BNZIW']: YFInvalidPeriodError(\"BNZIW: Period 'max' is invalid, must be of the format 1d, 5d, etc.\")\n",
      "\n",
      "1 Failed download:\n",
      "['BOWNR']: YFInvalidPeriodError(\"BOWNR: Period 'max' is invalid, must be of the format 1d, 5d, etc.\")\n",
      "\n",
      "1 Failed download:\n",
      "['BRLSW']: YFInvalidPeriodError(\"BRLSW: Period 'max' is invalid, must be of the format 1d, 5d, etc.\")\n",
      "\n",
      "1 Failed download:\n",
      "['BSIIW']: YFInvalidPeriodError(\"BSIIW: Period 'max' is invalid, must be of the format 1d, 5d, etc.\")\n",
      "\n",
      "1 Failed download:\n",
      "['BTBDW']: YFInvalidPeriodError(\"BTBDW: Period 'max' is invalid, must be of the format 1d, 5d, etc.\")\n",
      "\n",
      "1 Failed download:\n",
      "['BTCTW']: YFInvalidPeriodError(\"BTCTW: Period 'max' is invalid, must be of the format 1d, 5d, etc.\")\n",
      "\n",
      "1 Failed download:\n",
      "['BTMWW']: YFInvalidPeriodError(\"BTMWW: Period 'max' is invalid, must be of the format 1d, 5d, etc.\")\n",
      "\n",
      "1 Failed download:\n",
      "['BUJAR']: YFInvalidPeriodError(\"BUJAR: Period 'max' is invalid, must be of the format 1d, 5d, etc.\")\n",
      "\n",
      "1 Failed download:\n",
      "['BUJAW']: YFInvalidPeriodError(\"BUJAW: Period 'max' is invalid, must be of the format 1d, 5d, etc.\")\n",
      "\n",
      "1 Failed download:\n",
      "['BZAIW']: YFInvalidPeriodError(\"BZAIW: Period 'max' is invalid, must be of the format 1d, 5d, etc.\")\n",
      "\n",
      "1 Failed download:\n",
      "['BZFDW']: YFInvalidPeriodError(\"BZFDW: Period 'max' is invalid, must be of the format 1d, 5d, etc.\")\n"
     ]
    },
    {
     "name": "stdout",
     "output_type": "stream",
     "text": [
      "Downloaded 600 stocks data.\n",
      "Downloading CALM...\n"
     ]
    },
    {
     "name": "stderr",
     "output_type": "stream",
     "text": [
      "\n",
      "1 Failed download:\n",
      "['CAPTW']: YFInvalidPeriodError(\"CAPTW: Period 'max' is invalid, must be of the format 1d, 5d, etc.\")\n",
      "\n",
      "1 Failed download:\n",
      "['CCIRW']: YFInvalidPeriodError(\"CCIRW: Period 'max' is invalid, must be of the format 1d, 5d, etc.\")\n",
      "\n",
      "1 Failed download:\n",
      "['CCIXW']: YFInvalidPeriodError(\"CCIXW: Period 'max' is invalid, must be of the format 1d, 5d, etc.\")\n",
      "\n",
      "1 Failed download:\n",
      "['CDTTW']: YFInvalidPeriodError(\"CDTTW: Period 'max' is invalid, must be of the format 1d, 5d, etc.\")\n",
      "\n",
      "1 Failed download:\n",
      "['CELUW']: YFInvalidPeriodError(\"CELUW: Period 'max' is invalid, must be of the format 1d, 5d, etc.\")\n",
      "\n",
      "1 Failed download:\n",
      "['CEROW']: YFInvalidPeriodError(\"CEROW: Period 'max' is invalid, must be of the format 1d, 5d, etc.\")\n",
      "\n",
      "1 Failed download:\n",
      "['CGBSW']: YFInvalidPeriodError(\"CGBSW: Period 'max' is invalid, must be of the format 1d, 5d, etc.\")\n"
     ]
    },
    {
     "name": "stdout",
     "output_type": "stream",
     "text": [
      "Downloaded 700 stocks data.\n",
      "Downloading CGEN...\n"
     ]
    },
    {
     "name": "stderr",
     "output_type": "stream",
     "text": [
      "\n",
      "1 Failed download:\n",
      "['CIFRW']: YFInvalidPeriodError(\"CIFRW: Period 'max' is invalid, must be of the format 1d, 5d, etc.\")\n",
      "\n",
      "1 Failed download:\n",
      "['CINGW']: YFInvalidPeriodError(\"CINGW: Period 'max' is invalid, must be of the format 1d, 5d, etc.\")\n",
      "\n",
      "1 Failed download:\n",
      "['CLRCR']: YFInvalidPeriodError(\"CLRCR: Period 'max' is invalid, must be of the format 1d, 5d, etc.\")\n",
      "\n",
      "1 Failed download:\n",
      "['CLRCW']: YFInvalidPeriodError(\"CLRCW: Period 'max' is invalid, must be of the format 1d, 5d, etc.\")\n",
      "\n",
      "1 Failed download:\n",
      "['CLSKW']: YFInvalidPeriodError(\"CLSKW: Period 'max' is invalid, must be of the format 1d, 5d, etc.\")\n",
      "\n",
      "1 Failed download:\n",
      "['CMPOW']: YFInvalidPeriodError(\"CMPOW: Period 'max' is invalid, must be of the format 1d, 5d, etc.\")\n",
      "\n",
      "1 Failed download:\n",
      "['CNCKW']: YFInvalidPeriodError(\"CNCKW: Period 'max' is invalid, must be of the format 1d, 5d, etc.\")\n"
     ]
    },
    {
     "name": "stdout",
     "output_type": "stream",
     "text": [
      "Downloaded 800 stocks data.\n",
      "Downloading CNVS...\n"
     ]
    },
    {
     "name": "stderr",
     "output_type": "stream",
     "text": [
      "\n",
      "1 Failed download:\n",
      "['COCHW']: YFInvalidPeriodError(\"COCHW: Period 'max' is invalid, must be of the format 1d, 5d, etc.\")\n",
      "\n",
      "1 Failed download:\n",
      "['COEPW']: YFInvalidPeriodError(\"COEPW: Period 'max' is invalid, must be of the format 1d, 5d, etc.\")\n",
      "\n",
      "1 Failed download:\n",
      "['COOTW']: YFInvalidPeriodError(\"COOTW: Period 'max' is invalid, must be of the format 1d, 5d, etc.\")\n",
      "\n",
      "1 Failed download:\n",
      "['CORZW']: YFInvalidPeriodError(\"CORZW: Period 'max' is invalid, must be of the format 1d, 5d, etc.\")\n",
      "\n",
      "1 Failed download:\n",
      "['CORZZ']: YFInvalidPeriodError(\"CORZZ: Period 'max' is invalid, must be of the format 1d, 5d, etc.\")\n",
      "\n",
      "1 Failed download:\n",
      "['CRESW']: YFInvalidPeriodError(\"CRESW: Period 'max' is invalid, must be of the format 1d, 5d, etc.\")\n",
      "\n",
      "1 Failed download:\n",
      "['CREVW']: YFInvalidPeriodError(\"CREVW: Period 'max' is invalid, must be of the format 1d, 5d, etc.\")\n",
      "\n",
      "1 Failed download:\n",
      "['CRGOW']: YFInvalidPeriodError(\"CRGOW: Period 'max' is invalid, must be of the format 1d, 5d, etc.\")\n",
      "\n",
      "1 Failed download:\n",
      "['CRMLW']: YFInvalidPeriodError(\"CRMLW: Period 'max' is invalid, must be of the format 1d, 5d, etc.\")\n",
      "\n",
      "1 Failed download:\n",
      "['CSLRW']: YFInvalidPeriodError(\"CSLRW: Period 'max' is invalid, must be of the format 1d, 5d, etc.\")\n"
     ]
    },
    {
     "name": "stdout",
     "output_type": "stream",
     "text": [
      "Downloaded 900 stocks data.\n",
      "Downloading CTMX...\n"
     ]
    },
    {
     "name": "stderr",
     "output_type": "stream",
     "text": [
      "\n",
      "1 Failed download:\n",
      "['CUBWW']: YFInvalidPeriodError(\"CUBWW: Period 'max' is invalid, must be of the format 1d, 5d, etc.\")\n",
      "\n",
      "1 Failed download:\n",
      "['CURIW']: YFInvalidPeriodError(\"CURIW: Period 'max' is invalid, must be of the format 1d, 5d, etc.\")\n",
      "\n",
      "1 Failed download:\n",
      "['CXAIW']: YFInvalidPeriodError(\"CXAIW: Period 'max' is invalid, must be of the format 1d, 5d, etc.\")\n",
      "\n",
      "1 Failed download:\n",
      "['DAVEW']: YFInvalidPeriodError(\"DAVEW: Period 'max' is invalid, must be of the format 1d, 5d, etc.\")\n",
      "\n",
      "1 Failed download:\n",
      "['DDI']: YFRateLimitError('Too Many Requests. Rate limited. Try after a while.')\n",
      "\n",
      "1 Failed download:\n",
      "['DDOG']: YFRateLimitError('Too Many Requests. Rate limited. Try after a while.')\n",
      "\n",
      "1 Failed download:\n",
      "['DECA']: YFRateLimitError('Too Many Requests. Rate limited. Try after a while.')\n",
      "\n",
      "1 Failed download:\n",
      "['DECAW']: YFRateLimitError('Too Many Requests. Rate limited. Try after a while.')\n",
      "\n",
      "1 Failed download:\n",
      "['DENN']: YFRateLimitError('Too Many Requests. Rate limited. Try after a while.')\n",
      "\n",
      "1 Failed download:\n",
      "['DERM']: YFRateLimitError('Too Many Requests. Rate limited. Try after a while.')\n",
      "\n",
      "1 Failed download:\n",
      "['DEVS']: YFRateLimitError('Too Many Requests. Rate limited. Try after a while.')\n",
      "\n",
      "1 Failed download:\n",
      "['DFLI']: YFRateLimitError('Too Many Requests. Rate limited. Try after a while.')\n"
     ]
    }
   ],
   "source": [
    "main_base: pd.DataFrame = batch_load_from_yfinance(nasdaq_symbols, start_date, end_date)"
   ]
  },
  {
   "cell_type": "code",
   "execution_count": null,
   "id": "88ef4362-32b5-4561-b6c3-485d37460bc2",
   "metadata": {},
   "outputs": [],
   "source": [
    "main_base.to_parquet(\"main_base_predefined_stock_list.parquet\")"
   ]
  },
  {
   "cell_type": "code",
   "execution_count": null,
   "id": "42ed6907-8630-4816-93f6-a18c8ba5a112",
   "metadata": {},
   "outputs": [],
   "source": []
  }
 ],
 "metadata": {
  "kernelspec": {
   "display_name": "vibe-trader",
   "language": "python",
   "name": "vibe-trader"
  },
  "language_info": {
   "codemirror_mode": {
    "name": "ipython",
    "version": 3
   },
   "file_extension": ".py",
   "mimetype": "text/x-python",
   "name": "python",
   "nbconvert_exporter": "python",
   "pygments_lexer": "ipython3",
   "version": "3.10.16"
  }
 },
 "nbformat": 4,
 "nbformat_minor": 5
}
